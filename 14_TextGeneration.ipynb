{
  "nbformat": 4,
  "nbformat_minor": 0,
  "metadata": {
    "colab": {
      "provenance": [],
      "include_colab_link": true
    },
    "kernelspec": {
      "name": "python3",
      "display_name": "Python 3"
    },
    "language_info": {
      "name": "python"
    }
  },
  "cells": [
    {
      "cell_type": "markdown",
      "metadata": {
        "id": "view-in-github",
        "colab_type": "text"
      },
      "source": [
        "<a href=\"https://colab.research.google.com/github/NickLarsonUVA/DS1002/blob/main/14_TextGeneration.ipynb\" target=\"_parent\"><img src=\"https://colab.research.google.com/assets/colab-badge.svg\" alt=\"Open In Colab\"/></a>"
      ]
    },
    {
      "cell_type": "markdown",
      "source": [
        "## Final homework assignment:  generating text from a corpus\n",
        "\n",
        "Due Friday 3 May at 5 pm"
      ],
      "metadata": {
        "id": "tWbrZqoW5281"
      }
    },
    {
      "cell_type": "markdown",
      "source": [
        "We begin by loading all of Shakespeare's plays into a text file, and separating them into individual words.  This is made easy by the fact that someone already made a giant text file of these plays for us, and put it online.\n",
        "\n",
        "[Note that by changing the url in the following code chunk, you can load any text file that lives online in this way . . . see below.]\n",
        "\n",
        "Run the following code.  It should output a list of ten words, starting with 'From' and ending with 'rose'."
      ],
      "metadata": {
        "id": "7tMMjgkjF7gk"
      }
    },
    {
      "cell_type": "code",
      "source": [
        "from urllib.request import urlopen            #package for reading info from the web\n",
        "url='https://ocw.mit.edu/ans7870/6/6.006/s08/lecturenotes/files/t8.shakespeare.txt'   #web address\n",
        "text = urlopen(url).read().decode('utf-8')    #open web address, read file, convert to text\n",
        "shakespeare_words=text.split()[1651:]         #split text into words (not including preamble)\n",
        "shakespeare_words[:10]                        #display the first 10 words"
      ],
      "metadata": {
        "id": "PoW71ljm2GS-",
        "outputId": "d50201bd-afe6-493a-ffe0-df076d1a12dd",
        "colab": {
          "base_uri": "https://localhost:8080/"
        }
      },
      "execution_count": 26,
      "outputs": [
        {
          "output_type": "execute_result",
          "data": {
            "text/plain": [
              "['From',\n",
              " 'fairest',\n",
              " 'creatures',\n",
              " 'we',\n",
              " 'desire',\n",
              " 'increase,',\n",
              " 'That',\n",
              " 'thereby',\n",
              " \"beauty's\",\n",
              " 'rose']"
            ]
          },
          "metadata": {},
          "execution_count": 26
        }
      ]
    },
    {
      "cell_type": "markdown",
      "source": [
        "## 1. `nextwords` practice\n",
        "\n",
        "Create a practice function called `createNextwordsPractice` which takes a list of words called `wordlist` and returns a dictionary called `nextwordsPractice`. The keys of `nextwordsPractice` should be all the words in `wordlist`, and the value for any given key should be a list of all the words that follow the key word somewhere in the original `wordlist`.\n",
        "\n"
      ],
      "metadata": {
        "id": "AIeohQaAHRF8"
      }
    },
    {
      "cell_type": "code",
      "source": [
        "def createNextwordsPractice(wordlist):\n",
        "  nextwordsPractice = {}\n",
        "  for word in range(len(wordlist) - 1): #iterates over wordlist except for last\n",
        "    current = wordlist[word]\n",
        "    next = wordlist[word + 1]\n",
        "    if current not in nextwordsPractice:\n",
        "      nextwordsPractice[current] = [] #creates a new list for each word not in\n",
        "    nextwordsPractice[current].append(next) #adds the next word to current in dictionary\n",
        "  return nextwordsPractice"
      ],
      "metadata": {
        "id": "2XZa2K3C3InW"
      },
      "execution_count": 27,
      "outputs": []
    },
    {
      "cell_type": "markdown",
      "source": [
        "Run the following code:"
      ],
      "metadata": {
        "id": "FH3N2raWjtfd"
      }
    },
    {
      "cell_type": "code",
      "source": [
        "practice = createNextwordsPractice(shakespeare_words)\n",
        "practice['From']"
      ],
      "metadata": {
        "id": "P3M8beYAjiie",
        "colab": {
          "base_uri": "https://localhost:8080/"
        },
        "outputId": "3c8f0602-f801-4f9b-ee10-e7c11603f457"
      },
      "execution_count": 28,
      "outputs": [
        {
          "output_type": "execute_result",
          "data": {
            "text/plain": [
              "['fairest',\n",
              " 'his',\n",
              " 'sullen',\n",
              " 'limits',\n",
              " 'hands',\n",
              " 'whence',\n",
              " 'where',\n",
              " 'me',\n",
              " 'this',\n",
              " 'thy',\n",
              " 'hence',\n",
              " 'thee,',\n",
              " 'you',\n",
              " 'heaven',\n",
              " 'her',\n",
              " 'simple',\n",
              " 'whence',\n",
              " 'below',\n",
              " 'lowest',\n",
              " 'courtly',\n",
              " 'son',\n",
              " 'the',\n",
              " 'the',\n",
              " 'Sicyon,',\n",
              " 'Alexandria',\n",
              " 'Silvius,',\n",
              " 'mine',\n",
              " 'the',\n",
              " 'firm',\n",
              " 'Egypt',\n",
              " 'Antony',\n",
              " 'thine',\n",
              " 'that',\n",
              " 'my',\n",
              " 'me',\n",
              " 'henceforth',\n",
              " 'tyrant',\n",
              " 'seventeen',\n",
              " 'miserable',\n",
              " 'whom',\n",
              " 'my',\n",
              " 'whence,',\n",
              " 'me',\n",
              " 'me',\n",
              " 'slaves',\n",
              " 'every',\n",
              " 'rascals',\n",
              " 'whom',\n",
              " 'where',\n",
              " \"th'\",\n",
              " 'Rome',\n",
              " 'off',\n",
              " 'these',\n",
              " 'twelve',\n",
              " \"th'\",\n",
              " 'whence?',\n",
              " 'Rome.',\n",
              " 'thy',\n",
              " 'Gallia',\n",
              " 'fairies',\n",
              " 'off',\n",
              " \"th'\",\n",
              " 'most',\n",
              " 'thy',\n",
              " 'youth',\n",
              " 'every',\n",
              " 'whose',\n",
              " 'so',\n",
              " 'one',\n",
              " 'this',\n",
              " 'the',\n",
              " 'east',\n",
              " 'action',\n",
              " 'my',\n",
              " 'this',\n",
              " 'Leonati',\n",
              " 'her',\n",
              " 'chance',\n",
              " 'south',\n",
              " 'our',\n",
              " 'whence',\n",
              " 'the',\n",
              " 'top',\n",
              " 'this',\n",
              " 'our',\n",
              " 'that',\n",
              " 'me,',\n",
              " 'fashion',\n",
              " 'the',\n",
              " 'another',\n",
              " 'Hamlet?',\n",
              " 'whence',\n",
              " 'whom',\n",
              " \"Rumour's\",\n",
              " 'whence',\n",
              " 'the',\n",
              " 'a',\n",
              " 'a',\n",
              " 'enemies',\n",
              " 'every',\n",
              " 'this',\n",
              " 'the',\n",
              " 'open',\n",
              " 'whom',\n",
              " \"glist'ring\",\n",
              " 'our',\n",
              " 'him,',\n",
              " 'his',\n",
              " 'him,',\n",
              " 'camp',\n",
              " 'this',\n",
              " 'off',\n",
              " 'helmet',\n",
              " 'him',\n",
              " 'off',\n",
              " 'Lionel',\n",
              " 'John',\n",
              " 'famous',\n",
              " 'envious',\n",
              " 'whence',\n",
              " 'thence',\n",
              " 'bought',\n",
              " 'thee,',\n",
              " 'top',\n",
              " 'thence',\n",
              " 'meaning',\n",
              " \"treason's\",\n",
              " 'such',\n",
              " 'thee',\n",
              " 'Ireland',\n",
              " \"Clifford's\",\n",
              " 'your',\n",
              " 'London',\n",
              " 'whence',\n",
              " 'off',\n",
              " 'whence',\n",
              " 'Scotland',\n",
              " 'such',\n",
              " 'worthy',\n",
              " 'these',\n",
              " 'giving',\n",
              " 'France?',\n",
              " 'Ravenspurgh',\n",
              " 'shelves',\n",
              " 'those',\n",
              " 'his',\n",
              " 'sincere',\n",
              " 'every',\n",
              " 'foreign',\n",
              " 'princes',\n",
              " 'these',\n",
              " 'any',\n",
              " 'Ampthill,',\n",
              " 'your',\n",
              " 'hence',\n",
              " 'her',\n",
              " 'henceforth',\n",
              " 'France',\n",
              " 'whom',\n",
              " 'that',\n",
              " 'first',\n",
              " 'north',\n",
              " 'all',\n",
              " 'a',\n",
              " 'his',\n",
              " 'France',\n",
              " 'forth',\n",
              " 'whose',\n",
              " 'forth',\n",
              " 'this',\n",
              " 'out',\n",
              " 'forth',\n",
              " 'that',\n",
              " 'the',\n",
              " 'which',\n",
              " 'whom',\n",
              " 'what',\n",
              " 'the',\n",
              " 'hence',\n",
              " 'this',\n",
              " 'Goneril',\n",
              " 'those',\n",
              " 'seasons',\n",
              " 'that',\n",
              " 'her',\n",
              " 'the',\n",
              " 'a',\n",
              " 'tawny',\n",
              " \"reason's\",\n",
              " 'my',\n",
              " 'which',\n",
              " 'my',\n",
              " 'the',\n",
              " \"women's\",\n",
              " 'whence',\n",
              " \"women's\",\n",
              " 'morn',\n",
              " 'what',\n",
              " 'Fife,',\n",
              " 'hence',\n",
              " 'this',\n",
              " 'thence',\n",
              " 'whom',\n",
              " 'the',\n",
              " 'this',\n",
              " 'whence',\n",
              " 'what',\n",
              " 'over-credulous',\n",
              " 'which',\n",
              " 'too',\n",
              " 'whom',\n",
              " 'his',\n",
              " 'fasting',\n",
              " 'thee;',\n",
              " \"flow'ry\",\n",
              " 'thine',\n",
              " 'such',\n",
              " 'our',\n",
              " 'such',\n",
              " 'the',\n",
              " 'the',\n",
              " 'whom',\n",
              " 'Tripolis,',\n",
              " 'Lisbon,',\n",
              " 'out',\n",
              " 'any',\n",
              " 'brassy',\n",
              " 'stubborn',\n",
              " 'both,',\n",
              " 'the',\n",
              " 'the',\n",
              " 'time',\n",
              " 'Athens',\n",
              " \"lovers'\",\n",
              " 'Perigouna,',\n",
              " 'our',\n",
              " 'sleeping',\n",
              " \"monster's\",\n",
              " 'these',\n",
              " 'off',\n",
              " 'the',\n",
              " 'my',\n",
              " 'Claudio,',\n",
              " 'men',\n",
              " 'year',\n",
              " 'her',\n",
              " 'him',\n",
              " 'one',\n",
              " 'jealousy!',\n",
              " 'whence',\n",
              " 'the',\n",
              " 'any',\n",
              " 'the',\n",
              " 'this',\n",
              " 'giving',\n",
              " 'where',\n",
              " 'forth',\n",
              " 'some',\n",
              " 'Ravenspurgh',\n",
              " 'the',\n",
              " 'forth',\n",
              " 'off',\n",
              " 'my',\n",
              " \"Richard's\",\n",
              " 'out',\n",
              " 'sun',\n",
              " \"plume-pluck'd\",\n",
              " 'which',\n",
              " 'whence',\n",
              " 'your',\n",
              " 'whence',\n",
              " 'cold',\n",
              " 'wayward',\n",
              " 'that',\n",
              " 'this',\n",
              " 'my',\n",
              " 'the',\n",
              " 'all',\n",
              " 'forth',\n",
              " 'which',\n",
              " 'all',\n",
              " 'Tamworth',\n",
              " 'the',\n",
              " 'ancient',\n",
              " 'forth',\n",
              " \"Love's\",\n",
              " 'forth',\n",
              " 'off',\n",
              " 'this',\n",
              " 'all',\n",
              " 'Florence,',\n",
              " 'mine',\n",
              " 'the',\n",
              " 'what',\n",
              " 'me,',\n",
              " 'bogs,',\n",
              " 'me',\n",
              " 'Milan',\n",
              " 'toe',\n",
              " 'eaves',\n",
              " 'strange',\n",
              " 'whence',\n",
              " 'Isidore:',\n",
              " 'our',\n",
              " 'forth',\n",
              " 'change',\n",
              " \"gen'ral\",\n",
              " 'high',\n",
              " 'Alcibiades',\n",
              " 'niggard',\n",
              " 'weary',\n",
              " 'where',\n",
              " 'whence',\n",
              " 'this',\n",
              " 'these',\n",
              " 'thousand',\n",
              " 'heaven!',\n",
              " 'isles',\n",
              " 'his',\n",
              " 'Troy.',\n",
              " \"Cupid's\",\n",
              " 'false',\n",
              " 'certain',\n",
              " 'Troy',\n",
              " 'heart',\n",
              " 'whence,',\n",
              " 'my',\n",
              " 'the',\n",
              " 'the',\n",
              " 'my',\n",
              " 'a',\n",
              " 'hence,',\n",
              " 'Milan.',\n",
              " 'whom?',\n",
              " 'my',\n",
              " 'heartiness,',\n",
              " 'east,',\n",
              " 'course',\n",
              " 'him',\n",
              " 'our',\n",
              " 'all',\n",
              " 'your',\n",
              " 'those',\n",
              " 'the',\n",
              " \"Dis's\",\n",
              " 'the',\n",
              " 'my',\n",
              " 'thy',\n",
              " 'off']"
            ]
          },
          "metadata": {},
          "execution_count": 28
        }
      ]
    },
    {
      "cell_type": "code",
      "source": [
        "practice['rose']"
      ],
      "metadata": {
        "id": "W5FCOXElICLb",
        "colab": {
          "base_uri": "https://localhost:8080/"
        },
        "outputId": "7a5d2382-4b65-4d04-fd5a-6f1d4737f971"
      },
      "execution_count": 29,
      "outputs": [
        {
          "output_type": "execute_result",
          "data": {
            "text/plain": [
              "['might',\n",
              " 'looks',\n",
              " 'is',\n",
              " 'of',\n",
              " 'Of',\n",
              " 'may',\n",
              " 'will',\n",
              " 'of',\n",
              " 'From',\n",
              " 'and',\n",
              " 'of',\n",
              " 'both',\n",
              " 'with',\n",
              " 'from',\n",
              " 'with',\n",
              " 'with',\n",
              " 'side.',\n",
              " 'red,',\n",
              " 'too.',\n",
              " 'in',\n",
              " 'a',\n",
              " 'a',\n",
              " 'I',\n",
              " 'against',\n",
              " 'that',\n",
              " 'and',\n",
              " 'from',\n",
              " 'again,',\n",
              " 'Lest',\n",
              " 'against',\n",
              " 'Than',\n",
              " \"distill'd\",\n",
              " 'on',\n",
              " 'up',\n",
              " 'in',\n",
              " 'wither.',\n",
              " 'and',\n",
              " 'By',\n",
              " 'again?',\n",
              " 'he']"
            ]
          },
          "metadata": {},
          "execution_count": 29
        }
      ]
    },
    {
      "cell_type": "code",
      "source": [
        "practice['rose.']"
      ],
      "metadata": {
        "id": "Vr57wNx5BO4K",
        "colab": {
          "base_uri": "https://localhost:8080/"
        },
        "outputId": "8c90e850-695e-4ccf-95b3-c565bbea5e68"
      },
      "execution_count": 30,
      "outputs": [
        {
          "output_type": "execute_result",
          "data": {
            "text/plain": [
              "['It']"
            ]
          },
          "metadata": {},
          "execution_count": 30
        }
      ]
    },
    {
      "cell_type": "markdown",
      "source": [
        "## 2. `nextwords` for real:  new sentences.\n",
        "\n",
        "Next, write a new function called `createNextwords` which takes a `wordlist` and returns a dictionary of `nextwords`, but now with a new additional feature.  \n",
        "In addition to the keys from problem 1, add a special key to the dictionary, which will be the symbol '%'.  This key will signify the first word of a sentence. When scanning the wordlist to construct the `nextwords` dictionary, normally you would add `wordlist[i+1]` to the list `nextwords[wordlist[i]]`. However, if `wordlist[i]` ends with a period, then you should instead add `wordlist[i+1]` to the list nextwords['%']. Also add the very first word of `wordlist` to nextwords['%'].\n",
        "\n",
        "\n",
        "You should be able to produce this output:\n",
        "```\n",
        "> shakespeare_nextwords=createNextwords(shakespeare_words)\n",
        "> shakespeare_nextwords['Rose']\n",
        "['at', 'or', 'or', 'and']\n",
        "\n",
        "> shakespeare_nextwords['rose.']\n",
        "[]\n",
        "\n",
        "> len(shakespeare_nextwords['%'])\n",
        "76543\n",
        "```"
      ],
      "metadata": {
        "id": "t221x1X3iRVA"
      }
    },
    {
      "cell_type": "code",
      "source": [
        "def createNextwords(wordlist):\n",
        "  nextwords = {'%' : []}\n",
        "  for word in range(len(wordlist) - 1):\n",
        "        current = wordlist[word]\n",
        "        next = wordlist[word+ 1]\n",
        "#now add next word to % if it ends with a period\n",
        "        if current.endswith('.'):\n",
        "          if '%' not in nextwords:\n",
        "            nextwords['%'] = [] #creates new list\n",
        "          nextwords['%'].append(next)\n",
        "        else: #adds next word to current\n",
        "          if current not in nextwords:\n",
        "            nextwords[current] = [current]\n",
        "          nextwords[current].append(next)\n",
        "#need to add first word of wordlist to nextwords[\"%\"]\n",
        "  if wordlist:\n",
        "    first = wordlist[0]\n",
        "    if first not in nextwords['%']:\n",
        "      nextwords['%'].append(first)\n",
        "  return nextwords"
      ],
      "metadata": {
        "id": "Ze_-Uv2alRWX"
      },
      "execution_count": 31,
      "outputs": []
    },
    {
      "cell_type": "markdown",
      "source": [
        "Run the following code:"
      ],
      "metadata": {
        "id": "x7bamoxBlX6Q"
      }
    },
    {
      "cell_type": "code",
      "source": [
        "shakespeare_nextwords = createNextwords(shakespeare_words)\n",
        "\n",
        "print(shakespeare_nextwords['Rose'])\n",
        "print(len(shakespeare_nextwords['%']))"
      ],
      "metadata": {
        "id": "xv4ANlzvlZ2e",
        "colab": {
          "base_uri": "https://localhost:8080/"
        },
        "outputId": "39afc3af-4043-42f3-dd2b-fe15da6b0c1b"
      },
      "execution_count": 32,
      "outputs": [
        {
          "output_type": "stream",
          "name": "stdout",
          "text": [
            "['Rose', 'at', 'or', 'or', 'and']\n",
            "76542\n"
          ]
        }
      ]
    },
    {
      "cell_type": "code",
      "source": [
        "print(len(shakespeare_nextwords['rose']))"
      ],
      "metadata": {
        "id": "NsLW7PYYCj1r",
        "colab": {
          "base_uri": "https://localhost:8080/"
        },
        "outputId": "3e6cb5c8-7124-4399-e20a-4f4389f80455"
      },
      "execution_count": 33,
      "outputs": [
        {
          "output_type": "stream",
          "name": "stdout",
          "text": [
            "41\n"
          ]
        }
      ]
    },
    {
      "cell_type": "code",
      "source": [
        "print(shakespeare_nextwords['rose.'])\n",
        "#causes an error, need to check if there are any words following rose."
      ],
      "metadata": {
        "id": "NyjLxUKiIPqG"
      },
      "execution_count": null,
      "outputs": []
    },
    {
      "cell_type": "code",
      "source": [
        "if 'rose.' in shakespeare_nextwords:\n",
        "    print(shakespeare_nextwords['rose.'])\n",
        "else:\n",
        "    print(\"No words found following 'rose.'\")\n",
        "#this shows that there are no words folliwng rose"
      ],
      "metadata": {
        "colab": {
          "base_uri": "https://localhost:8080/"
        },
        "id": "tkRveCMC0EHw",
        "outputId": "da33e6fa-68d3-452c-f862-1282ea91b20d"
      },
      "execution_count": 39,
      "outputs": [
        {
          "output_type": "stream",
          "name": "stdout",
          "text": [
            "No words found following 'rose.'\n"
          ]
        }
      ]
    },
    {
      "cell_type": "markdown",
      "source": [
        "## 3.  Make your own Shakespeare play\n",
        "\n",
        "Okay, that may be a bit of an exaggeration.  Anyway, next up is text generation.  \n",
        "We'll need the choice function:"
      ],
      "metadata": {
        "id": "BCIAfYSIX3VC"
      }
    },
    {
      "cell_type": "code",
      "source": [
        "from random import choice"
      ],
      "metadata": {
        "id": "rbBHDv55Biae"
      },
      "execution_count": 38,
      "outputs": []
    },
    {
      "cell_type": "markdown",
      "source": [
        "This function chooses a random element from a list.  Run this code a few times:"
      ],
      "metadata": {
        "id": "-vCM3Z0BmAw9"
      }
    },
    {
      "cell_type": "code",
      "source": [
        "choice([1, 17, 34, 289])"
      ],
      "metadata": {
        "colab": {
          "base_uri": "https://localhost:8080/"
        },
        "id": "FGMf-UmAl_uf",
        "outputId": "42fa66a8-64c0-40eb-a578-5848868b8bcc"
      },
      "execution_count": 40,
      "outputs": [
        {
          "output_type": "execute_result",
          "data": {
            "text/plain": [
              "289"
            ]
          },
          "metadata": {},
          "execution_count": 40
        }
      ]
    },
    {
      "cell_type": "markdown",
      "source": [
        "Now, create a function called `makePlay(nextwords,n)` which takes a dictionary `nextwords` and a number `n`, and follows these steps:\n",
        "1. Define an empty `newplay` string.  (I did this for you.)\n",
        "2. Set `currentword` equal to '%'.\n",
        "3. Start a for-loop that will run `n` times.\n",
        "4. Randomly choose a word from the list `nextwords[currentword]`.\n",
        "5. Add the chosen word to `newplay`, followed by a space `' '` character.\n",
        "6. If the chosen word ends in a period, add a newline character '\\n' and set `currentword` equal to `%`.\n",
        "7. Otherwise, set `currentword` equal to the chosen word.\n",
        "8. Go back to step 4.\n",
        "9. When all `n` iterations have finished, your function should return `newplay`."
      ],
      "metadata": {
        "id": "ZmLqxclQYMpl"
      }
    },
    {
      "cell_type": "code",
      "source": [
        "def makePlay(nextwords,n):\n",
        "  newplay=''\n",
        "  current = '%'\n",
        "\n",
        "  for _ in range(n): #random choice of word from nextwordslist\n",
        "    if current in nextwords:\n",
        "      nextwordslist = nextwords[current]\n",
        "      chosenword = random.choice(nextwordslist)\n",
        "      newplay += chosenword + ' '\n",
        "            # If the chosen word ends in a period, add a newline character '\\n'\n",
        "      if chosenword.endswith('.'):\n",
        "        newplay += '\\n'\n",
        "        currentword = '%'\n",
        "      else:\n",
        "        currentword = chosenword\n",
        "  return newplay"
      ],
      "metadata": {
        "id": "gMxDF-MiYqD2"
      },
      "execution_count": 48,
      "outputs": []
    },
    {
      "cell_type": "markdown",
      "source": [
        "Now create a 1000 word Shakesperian play by running the following code:"
      ],
      "metadata": {
        "id": "v_uCxqDZtuhP"
      }
    },
    {
      "cell_type": "code",
      "source": [
        "nextwords=createNextwords(shakespeare_words)\n",
        "newplay=makePlay(nextwords,1000)\n",
        "print(newplay)"
      ],
      "metadata": {
        "id": "KVtzPXWWEdDR",
        "colab": {
          "base_uri": "https://localhost:8080/"
        },
        "outputId": "df09ecfd-e03d-4303-be4b-dc1e8f4ee362"
      },
      "execution_count": 49,
      "outputs": [
        {
          "output_type": "stream",
          "name": "stdout",
          "text": [
            "A What By Let If ANTONY. \n",
            "You Exit Do Thanks, What, Exit But VALENTINE. \n",
            "FIRST I BANQUO. \n",
            "Is't The Sweet Harry Capt. \n",
            "What Away Has When Exit. \n",
            "ACT ELECTRONIC He And Lords, Go, For TIMON. \n",
            "OFFICER. \n",
            "SECOND Sweet Enter Now Go Heard If Let's When But DUKE. \n",
            "Cor. \n",
            "The I O, Nay, Fie, The COUNTESS. \n",
            "ANTIGONUS. \n",
            "Marry, CAIUS. \n",
            "I Kent. \n",
            "MACBETH. \n",
            "SECOND CRESSIDA. \n",
            "Fare Fare Welcome Exeunt VALERIA. \n",
            "Exeunt Farewell, In I Glou. \n",
            "Alarum; Katherine, Indeed, Hob-nob The Roots, O, I I PANDARUS. \n",
            "The I Apt, Welcome You ANTIGONUS. \n",
            "ULYSSES. \n",
            "That's Enter Stall Consider There's I Hor. \n",
            "BUCKINGHAM. \n",
            "KING Lo, If Without, So Ah, Ay, The No, QUEEN O, PROTEUS. \n",
            "Nor Thou, IMOGEN. \n",
            "JAQUENETTA. \n",
            "The Herein IAGO. \n",
            "In [The I Exeunt I The Plantagenet. \n",
            "The Thee How Please Alas! Sound All KING ISABELLA. \n",
            "GLOUCESTER. \n",
            "[to No, Good The Play, TITINIUS. \n",
            "Sirrah, Claud. \n",
            "Hail What Do I'll [Enter Call Now But Great Stay LUCIUS. \n",
            "Exit Farewell, You I I' Re-enter She Exit LUCIUS' I Hast Leon. \n",
            "HASTINGS. \n",
            "We'll Not PROHIBITED PANTHINO. \n",
            "[aside] LONGAVILLE. \n",
            "A ORLANDO. \n",
            "I Thine, Take Is What Our Pedro. \n",
            "Ay, SCENE Now, I What Enter A Marseilles. \n",
            "Reg. \n",
            "ABBESS. \n",
            "He What Say What Mark No, COUNTESS. \n",
            "Which Raise Ham. \n",
            "Record SECOND BRUTUS. \n",
            "POLIXENES. \n",
            "I Good What SALISBURY. \n",
            "BRUTUS. \n",
            "What I And FITZWATER. \n",
            "KING Behold; A No Let The Methinks For What, I . \n",
            "And Hume CAMILLO. \n",
            "A 'Item: CLOWN. \n",
            "KING Claud. \n",
            "[JUNO Madam, No, Not I MRS. \n",
            "MARGARET. \n",
            "Unfold Exeunt, Such Man Ha! Abate De Hubert, PANDARUS. \n",
            "Y'are Exeunt As Exeunt What This Good Enter Go; When Renowned I They There Why, To Exeunt PROHIBITED Thou MENAS. \n",
            "RUTLAND. \n",
            "CYMBELINE. \n",
            "Revenge Edm. \n",
            "LADY Speak, [DERBY GARDINER. \n",
            "We The MONTANO. \n",
            "ANTIPHOLUS POMPEY. \n",
            "PROHIBITED Courage, SECOND But Exit 36 'In A 'Tis FLUELLEN. \n",
            "Belike Simple Lear. \n",
            "Why, What [reads] You MACBETH. \n",
            "There Pompey Bora. \n",
            "WARWICK. \n",
            "Stay, Ay, DUKE. \n",
            "Say, POLIXENES. \n",
            "We No, I The Then, How ANTONIO. \n",
            "'Conscience,' How How KING. \n",
            "I Away! Yet SUFFOLK. \n",
            "O Art Exit. \n",
            ". \n",
            "An Thou Me, My Off You She MRS. \n",
            "For I Come 'Tis Lord That's Shallow It IMOGEN. \n",
            "Pray, See Say PAGE Lord O Who KATHERINA. \n",
            "ELECTRONIC Then Willingly; ARMADO. \n",
            "For ANTIPHOLUS I Help What ORLANDO. \n",
            "Mer. \n",
            "What KING There, A Sirs, I Where Well, Exeunt Peace, [Exeunt On They Ham. \n",
            "KING Some Is Enter And Before Doubt But MENENIUS. \n",
            "Exeunt, PAGE. \n",
            "Unnatural My Come, PORTIA. \n",
            "O, Drown'd! O Meet PROSPERO. \n",
            "Exeunt. \n",
            "I I By Marg. \n",
            "This I But When Peace BELARIUS. \n",
            "What CLEOPATRA. \n",
            "Nurse. \n",
            "GLOUCESTER. \n",
            "So This Besides, Begin, Verg. \n",
            "What MOTH. \n",
            "Should [Steps PROHIBITED The For But Were I'll PROTEUS. \n",
            "CHIRON. \n",
            "Would If If BOYET. \n",
            "DESDEMONA. \n",
            "Besides, MARIA. \n",
            "Seem BIANCA. \n",
            "I Ay, Stay, SIR DERCETAS. \n",
            "ROSS. \n",
            "ACHILLES. \n",
            "ANTIGONUS. \n",
            "BARDOLPH. \n",
            "But, The Royal The This There's O Lean Though Enter Our By Fran. \n",
            "PAGE. \n",
            "KING Tears Ere The Wor. \n",
            "Exeunt Why, I Which Sir, HORTENSIO. \n",
            "Tarry, Thou Would He No, 18 Urs. \n",
            "Enter If Gods Indeed, Bootless Anne Laertes, And DUKE. \n",
            "Eros, [To You MALVOLIO. \n",
            "The But Why, A Brave God ALL. \n",
            "So, Madam, IAGO. \n",
            "Where She FIRST I LUCIO. \n",
            "Therefore The Break John. \n",
            "CADE. \n",
            "Answer ANTONIO. \n",
            "Con. \n",
            "Shall I FORD. \n",
            "The PORTIA. \n",
            "She That's Sound Is And The For Well MRS. \n",
            "FANG. \n",
            "Ay ROSALIND. \n",
            "Bring But Even And GREMIO. \n",
            "In I POMPEY. \n",
            "Brother Give I For These Mad GONZALO. \n",
            "CLARENCE. \n",
            "Gentle Shall OLIVIA. \n",
            "Let Master, I Let Good, Aunchient A PROHIBITED Keep 'In I Demand It I Did This Of We DUKE. \n",
            "Acordo But No ANGELO. \n",
            "CALPURNIA. \n",
            "ANTIPHOLUS Run HELENA. \n",
            "These Ay, Madam, This Gold! And, PORTIA. \n",
            "THERSITES. \n",
            "GRUMIO. \n",
            "For Sir, Exeunt Sir, Did Come; You Who [Draws] Doug. \n",
            "Enter I Bravely, Both Therefore Doth I How North. \n",
            "Exeunt PROSPERO. \n",
            "PROTEUS. \n",
            "O, CELIA. \n",
            "Mistress Yea, My All I'll Ross. \n",
            "A <<THIS Those Unkind And I OTHELLO. \n",
            "How The Upon Yonder DUKE. \n",
            "My Well She Reg. \n",
            "FALSTAFF. \n",
            "Bene. \n",
            "How Most Put Repent O, So Know Why As They Who Boy, But Madam, CLEOPATRA'S King. \n",
            "Queen. \n",
            "When Gentlemen, By I But Please't What, CROMWELL. \n",
            "When So DUMAIN. \n",
            "For SILVIUS. \n",
            "Take There's Not LUCIO. \n",
            "The What My My Casca Thou CELIA. \n",
            "ELECTRONIC Tailor, Hark! Bene. \n",
            "DUKE. \n",
            "The KING. \n",
            "Les I What! Gentlemen Do OTHELLO. \n",
            "Here, Here's It Rugby, My I Already PROHIBITED Sir, I'll I In SCENE FORD. \n",
            "CLOWN. \n",
            "KING Give Not Had OTHELLO. \n",
            "We OLIVIA. \n",
            "LUCIUS' 'Tis The Welcome Come, SECOND I'll No Another O Though I'll By [Shows [Squeezing Word PAGE. \n",
            "For Courtiers Now, THE O Come No, Dost THESEUS. \n",
            "In Into I'll Most MORTIMER. \n",
            "But Revolted Queen. \n",
            "Th' [Within.] Britain. \n",
            "Offer LEWIS. \n",
            "And Exeunt TITUS. \n",
            "Kent. \n",
            "Exeunt CLOTEN. \n",
            "Leave What Little HORTENSIO. \n",
            "BELARIUS. \n",
            "SOMERSET. \n",
            "By No, LUCY. \n",
            "Woe, THESEUS. \n",
            "ESCALUS. \n",
            "I EMILIA. \n",
            "CLOTEN. \n",
            "Say What, BASTARD. \n",
            "BRUTUS. \n",
            "O Twenty Pray Your We Reason FLAVIUS. \n",
            "CLEOMENES. \n",
            "KING 'Lower' Had Prince. \n",
            "'Tis But FALSTAFF. \n",
            "Time [Exit.] Faith, We Advise [Singing] I'll My Swear The This LARTIUS. \n",
            "Nothing Tongue, Rome CHIEF One I I This Seest I I Gentle None, But What I I He Then GOWER. \n",
            "LEONTES. \n",
            "ANTIPHOLUS That And ELBOW. \n",
            "PETRUCHIO. \n",
            "Another Who SALISBURY. \n",
            "Did No, MALCOLM. \n",
            "Under Renew, It [Beats So BURGUNDY. \n",
            "Stones No Why, Good Peter, Enter Thou Exit Exeunt And BASTARD. \n",
            "So Truly, And ELECTRONIC DUCHESS. \n",
            "KING. \n",
            "BAPTISTA. \n",
            "Oph. \n",
            "Shall That? Believe The Urs. \n",
            "Shepherdess- What This O, GLOUCESTER. \n",
            "Come, [aside] His ANTIPHOLUS By Good O O And SLENDER. \n",
            "With CASSIO. \n",
            "Jul. \n",
            "Give ARMADO. \n",
            "Think KING. \n",
            "As FRANCIS. \n",
            "PROHIBITED Have Sweet Enter Why? ISABELLA. \n",
            "FIRST But What, OLD MENENIUS. \n",
            "My AUTOLYCUS. \n",
            "Why The 'Tis QUINCE. \n",
            "If Sir TOUCHSTONE. \n",
            "More Why, Exit 'Twill Are EVANS. \n",
            "VINCENTIO. \n",
            "SCENE A PRINCESS No; I Then I This Enter O And FORD. \n",
            "SHEPHERD. \n",
            "They ELECTRONIC I The Some And After Edg. \n",
            "Stand ALL. \n",
            "ANTONIO. \n",
            "I PORTIA. \n",
            "I What's Make Though AARON. \n",
            "CLEOPATRA. \n",
            "From That Queen. \n",
            "No BRUTUS. \n",
            "Alas, And, WINCHESTER. \n",
            "CRESSIDA. \n",
            "Boys If Go At Is't Will And Go ROSALIND. \n",
            "Speak My Upon Soft, Lend Ay, HORTENSIO. \n",
            "NYM. \n",
            "'Let Because Madam, CLEOPATRA. \n",
            "In PROHIBITED Do You Nay, 'Accost' KING Alarums. \n",
            "I I I KING In VOLUMNIA. \n",
            "Marry, Do Tush! Most Where MARIA. \n",
            "Will If \n"
          ]
        }
      ]
    },
    {
      "cell_type": "markdown",
      "source": [
        "At this point you might enjoy finding other sources of text on the internet and replacing the url at the top of this notebook. You can use song lyrics, news articles, etc. You just need to find files ending with '.txt'. Alternatively, you can copy and paste any block of text from any file into colab, assign it to the variable `text`, and then use wordlist=text.split() to get a list of words."
      ],
      "metadata": {
        "id": "cHcYHBcNu65y"
      }
    },
    {
      "cell_type": "markdown",
      "source": [
        "## Bonus:\n",
        "\n",
        "Recall the following recursive function that we used to define the Fibonacci numbers:"
      ],
      "metadata": {
        "id": "SOZ_vzwJoG45"
      }
    },
    {
      "cell_type": "code",
      "source": [
        "def fibonacci(n):\n",
        "  # Base cases: F(0) = 0, F(1) = 1\n",
        "  if n == 0:\n",
        "    return 0\n",
        "  elif n == 1:\n",
        "    return 1\n",
        "  else:\n",
        "    # Recursive case: F(n) = F(n-1) + F(n-2)\n",
        "    return fibonacci(n - 1) + fibonacci(n - 2)\n"
      ],
      "metadata": {
        "id": "KTj2L--_oQDu"
      },
      "execution_count": 50,
      "outputs": []
    },
    {
      "cell_type": "markdown",
      "source": [
        "Here is the question.  If you run this line of code:  \n",
        "`fibonacci(17)`  \n",
        "how many times does the function `fibonacci()` get called?  \n",
        "(The answer is not 1597, which is the value returned by the function.)"
      ],
      "metadata": {
        "id": "C-PtiPKwod0m"
      }
    },
    {
      "cell_type": "code",
      "source": [
        "# each Fibonacci number from fibonacci(17) down to fibonacci(1) and fibonacci(0) will result in one call to the fibonacci() function.\n",
        "# the function fibonacci() gets called a total of 17 times when fibonacci(17) is run."
      ],
      "metadata": {
        "id": "jgY8MX6NBACE"
      },
      "execution_count": null,
      "outputs": []
    }
  ]
}