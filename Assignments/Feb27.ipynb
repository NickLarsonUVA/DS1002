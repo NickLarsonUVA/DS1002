{
  "nbformat": 4,
  "nbformat_minor": 0,
  "metadata": {
    "colab": {
      "provenance": [],
      "authorship_tag": "ABX9TyMyHyJvCn/0Ae2rYl3oHVxS",
      "include_colab_link": true
    },
    "kernelspec": {
      "name": "python3",
      "display_name": "Python 3"
    },
    "language_info": {
      "name": "python"
    }
  },
  "cells": [
    {
      "cell_type": "markdown",
      "metadata": {
        "id": "view-in-github",
        "colab_type": "text"
      },
      "source": [
        "<a href=\"https://colab.research.google.com/github/NickLarsonUVA/DS1002/blob/main/Feb27.ipynb\" target=\"_parent\"><img src=\"https://colab.research.google.com/assets/colab-badge.svg\" alt=\"Open In Colab\"/></a>"
      ]
    },
    {
      "cell_type": "code",
      "execution_count": 1,
      "metadata": {
        "colab": {
          "base_uri": "https://localhost:8080/"
        },
        "id": "TfJWXnacYAzU",
        "outputId": "5da29284-6ffd-45f8-a80e-bde347faf97a"
      },
      "outputs": [
        {
          "output_type": "stream",
          "name": "stdout",
          "text": [
            "Collecting english_words\n",
            "  Downloading english-words-2.0.1.tar.gz (8.2 MB)\n",
            "\u001b[2K     \u001b[90m━━━━━━━━━━━━━━━━━━━━━━━━━━━━━━━━━━━━━━━━\u001b[0m \u001b[32m8.2/8.2 MB\u001b[0m \u001b[31m11.6 MB/s\u001b[0m eta \u001b[36m0:00:00\u001b[0m\n",
            "\u001b[?25h  Installing build dependencies ... \u001b[?25l\u001b[?25hdone\n",
            "  Getting requirements to build wheel ... \u001b[?25l\u001b[?25hdone\n",
            "  Preparing metadata (pyproject.toml) ... \u001b[?25l\u001b[?25hdone\n",
            "Building wheels for collected packages: english_words\n",
            "  Building wheel for english_words (pyproject.toml) ... \u001b[?25l\u001b[?25hdone\n",
            "  Created wheel for english_words: filename=english_words-2.0.1-py3-none-any.whl size=8196238 sha256=ab6b8c94bb97dc3f2260f835f425b24679caa208f051ee6948ae0072883b8955\n",
            "  Stored in directory: /root/.cache/pip/wheels/f0/e6/d9/16a123647999fe535f03a36e7af23eef203736d84c7ca25b0b\n",
            "Successfully built english_words\n",
            "Installing collected packages: english_words\n",
            "Successfully installed english_words-2.0.1\n"
          ]
        }
      ],
      "source": [
        "!pip install english_words\n",
        "from english_words import get_english_words_set\n",
        "words = get_english_words_set(['web2'], lower=True)"
      ]
    },
    {
      "cell_type": "code",
      "source": [
        "#Question 1\n",
        "wordlist = list(words)\n",
        "wordlist_length = len(wordlist) #length shows how many\n",
        "print(wordlist_length)"
      ],
      "metadata": {
        "colab": {
          "base_uri": "https://localhost:8080/"
        },
        "id": "VV-6B1EcYNOq",
        "outputId": "c6cbf20f-68db-4d8a-c871-5e9ae6ac7e02"
      },
      "execution_count": 3,
      "outputs": [
        {
          "output_type": "stream",
          "name": "stdout",
          "text": [
            "234450\n"
          ]
        }
      ]
    },
    {
      "cell_type": "code",
      "source": [
        "#Question 2\n",
        "for tenwords in wordlist[:10]: #this only does the first 10\n",
        "  print(tenwords)"
      ],
      "metadata": {
        "colab": {
          "base_uri": "https://localhost:8080/"
        },
        "id": "nHwSV4e-Ytwl",
        "outputId": "d29e9553-a167-4e12-8bc0-79822b5666c8"
      },
      "execution_count": 12,
      "outputs": [
        {
          "output_type": "stream",
          "name": "stdout",
          "text": [
            "misremembrance\n",
            "alleger\n",
            "bronchophonic\n",
            "absolutistic\n",
            "gemmeous\n",
            "incompensation\n",
            "undeprivable\n",
            "variciform\n",
            "abbess\n",
            "sort\n"
          ]
        }
      ]
    },
    {
      "cell_type": "code",
      "source": [
        "#Question 3\n",
        "alpha_list = sorted(wordlist)\n",
        "for word in alpha_list[:10]: #this only does the first 10 in the sorted list\n",
        "  print(word)"
      ],
      "metadata": {
        "colab": {
          "base_uri": "https://localhost:8080/"
        },
        "id": "P-ePXbYYZJJu",
        "outputId": "224b9cff-95c0-4b88-9bd1-0fa4b8e2fc7b"
      },
      "execution_count": 17,
      "outputs": [
        {
          "output_type": "stream",
          "name": "stdout",
          "text": [
            "a\n",
            "aa\n",
            "aal\n",
            "aalii\n",
            "aam\n",
            "aani\n",
            "aardvark\n",
            "aardwolf\n",
            "aaron\n",
            "aaronic\n"
          ]
        }
      ]
    },
    {
      "cell_type": "code",
      "source": [
        "#Question 4\n",
        "number_awords = sum(1 for word in wordlist if word.startswith('a')) #words.startwith is a function to see which words start with the entered input\n",
        "print(number_awords)"
      ],
      "metadata": {
        "colab": {
          "base_uri": "https://localhost:8080/"
        },
        "id": "cEkoKqWyaLF5",
        "outputId": "8bb6139c-91be-4e06-b5cf-e805bac1f6d3"
      },
      "execution_count": 24,
      "outputs": [
        {
          "output_type": "stream",
          "name": "stdout",
          "text": [
            "16982\n"
          ]
        }
      ]
    },
    {
      "cell_type": "code",
      "source": [
        "#Question 5\n",
        "number_qwords = sum(1 for word in wordlist if 'q' in word)\n",
        "number_no_e = sum(1 for word in wordlist if 'e' not in word)\n",
        "fraction_no_e = number_no_e / len(wordlist) #this creates the fraction by dividing\n",
        "print(number_qwords)\n",
        "print(fraction_no_e)"
      ],
      "metadata": {
        "colab": {
          "base_uri": "https://localhost:8080/"
        },
        "id": "Ss9T_m6IbWi7",
        "outputId": "4123d505-962f-4ec6-ce55-4da5789d9b10"
      },
      "execution_count": 25,
      "outputs": [
        {
          "output_type": "stream",
          "name": "stdout",
          "text": [
            "3624\n",
            "0.32828321603753463\n"
          ]
        }
      ]
    },
    {
      "cell_type": "code",
      "source": [
        "#Question 6\n",
        "import numpy as np\n",
        "wordlist_array = np.array(wordlist)\n",
        "alpha_list_array = np.array(alpha_list)\n",
        "alphabet = [chr(i) for i in range(ord('a'),ord('z')+1)]\n",
        "#this code creates a list with all lowercase letters of the english alphabet"
      ],
      "metadata": {
        "id": "CtrkZUNUcwBK"
      },
      "execution_count": 28,
      "outputs": []
    },
    {
      "cell_type": "code",
      "source": [
        "#Question 7\n",
        "import matplotlib.pyplot as plt\n",
        "words_withletter = {letter: sum(1 for word in wordlist if word.startswith(letter)) for letter in alphabet}\n",
        "letters = list(words_withletter.keys())\n",
        "counts = list(words_withletter.values()) #obtains separate lists of letters and their corresponding counts from the dictionary containing the counts of words starting with each letter.\n",
        "plt.figure(figsize=(8, 6))\n",
        "plt.bar(letters, counts, color='red')\n",
        "plt.xlabel('Letters')\n",
        "plt.ylabel('Number of Words')\n",
        "plt.title('Number of Words Starting with Each Letter')\n",
        "plt.show()"
      ],
      "metadata": {
        "colab": {
          "base_uri": "https://localhost:8080/",
          "height": 564
        },
        "id": "6xgJrF1LdVE9",
        "outputId": "86fbcb97-be8b-4bdb-8036-1d99885dd691"
      },
      "execution_count": 42,
      "outputs": [
        {
          "output_type": "display_data",
          "data": {
            "text/plain": [
              "<Figure size 800x600 with 1 Axes>"
            ],
            "image/png": "[encoded data removed]"
          },
          "metadata": {}
        }
      ]
    },
    {
      "cell_type": "code",
      "source": [
        "#Question 8\n",
        "sorted_words = sorted(wordlist, key=len, reverse=True) #When reverse=True is set, it sorts the list in descending order (from largest to smallest)\n",
        "six_longest_words = sorted_words[:6] #first 6 words\n",
        "for word in six_longest_words:\n",
        "    print(word)"
      ],
      "metadata": {
        "colab": {
          "base_uri": "https://localhost:8080/"
        },
        "id": "7kvswoI6iiN9",
        "outputId": "5c70ff67-60bd-4385-9f37-5b36a7312a2e"
      },
      "execution_count": 37,
      "outputs": [
        {
          "output_type": "stream",
          "name": "stdout",
          "text": [
            "antidisestablishmentarianism\n",
            "formaldehydesulphoxylate\n",
            "thyroparathyroidectomize\n",
            "tetraiodophenolphthalein\n",
            "pathologicopsychological\n",
            "scientificophilosophical\n"
          ]
        }
      ]
    },
    {
      "cell_type": "code",
      "source": [
        "#Question 9\n",
        "word_length = {}\n",
        "for word in wordlist:\n",
        "    length = len(word)\n",
        "    if length in word_length:\n",
        "        word_length[length] += 1 #continues on to the next\n",
        "    else:\n",
        "        word_length[length] = 1 #stops at the current\n",
        "\n",
        "lengths = list(word_length.keys())\n",
        "counts = list(word_length.values())\n",
        "\n",
        "plt.figure(figsize=(10, 6))\n",
        "plt.bar(lengths, counts, color='forestgreen')\n",
        "plt.xlabel('Word Length')\n",
        "plt.ylabel('Number of Words')\n",
        "plt.title('Histogram of Word Lengths')\n",
        "plt.show()\n",
        "\n",
        "most_common_length = max(word_length, key=word_length.get) #max gives the maximum of the key input\n",
        "print(\"most common length:\", most_common_length)"
      ],
      "metadata": {
        "colab": {
          "base_uri": "https://localhost:8080/",
          "height": 582
        },
        "id": "t5GrI1yRkFz8",
        "outputId": "0517b7d1-d5de-449c-d33d-9b16ee22576b"
      },
      "execution_count": 43,
      "outputs": [
        {
          "output_type": "display_data",
          "data": {
            "text/plain": [
              "<Figure size 1000x600 with 1 Axes>"
            ],
            "image/png": "[encoded data removed]"
          },
          "metadata": {}
        },
        {
          "output_type": "stream",
          "name": "stdout",
          "text": [
            "most common length: 9\n"
          ]
        }
      ]
    },
    {
      "cell_type": "code",
      "source": [
        "#Question 11\n",
        "count_va = 0\n",
        "count_wl = 0\n",
        "for word in wordlist:\n",
        "    if 'v' in word and 'a' in word:\n",
        "        count_va += 1\n",
        "    if 'w' in word and 'l' in word:\n",
        "        count_wl += 1\n",
        "print(\"words containing both 'v' and 'a':\", count_va)\n",
        "print(\"words containing both 'w' and 'l':\", count_wl)\n",
        "#this only contains one loop and is completed very quickly by using the 'and'"
      ],
      "metadata": {
        "colab": {
          "base_uri": "https://localhost:8080/"
        },
        "id": "r2-xJOQHksxk",
        "outputId": "014842d9-809f-4458-ddc2-3cb3f92ae7ad"
      },
      "execution_count": 45,
      "outputs": [
        {
          "output_type": "stream",
          "name": "stdout",
          "text": [
            "words containing both 'v' and 'a': 11347\n",
            "words containing both 'w' and 'l': 4822\n"
          ]
        }
      ]
    }
  ]
}
