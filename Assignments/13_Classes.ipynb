{
  "nbformat": 4,
  "nbformat_minor": 0,
  "metadata": {
    "colab": {
      "provenance": [],
      "include_colab_link": true
    },
    "kernelspec": {
      "name": "python3",
      "display_name": "Python 3"
    },
    "language_info": {
      "name": "python"
    }
  },
  "cells": [
    {
      "cell_type": "markdown",
      "metadata": {
        "id": "view-in-github",
        "colab_type": "text"
      },
      "source": [
        "<a href=\"https://colab.research.google.com/github/NickLarsonUVA/DS1002/blob/main/Assignments/13_Classes.ipynb\" target=\"_parent\"><img src=\"https://colab.research.google.com/assets/colab-badge.svg\" alt=\"Open In Colab\"/></a>"
      ]
    },
    {
      "cell_type": "markdown",
      "source": [
        "## Assignment:  Classes\n",
        "### Due Sunday 28 April at 10pm"
      ],
      "metadata": {
        "id": "5Vy93BSp9Tum"
      }
    },
    {
      "cell_type": "markdown",
      "source": [
        "1.  Define a class called `Person` that has attributes `lastName`, `firstName`, `mother`, and `father`.  Both `mother` and `father` should have default value `unknown`.\n",
        "\n",
        "  Include a `__str__()` function that returns a string of the form '`firstName` `lastName`'.\n",
        "\n",
        "  Include a `__repr__()` function that returns a string that can be evaluated to recreate the `Person` object.\n",
        "\n"
      ],
      "metadata": {
        "id": "vcj5XQAI9Wsb"
      }
    },
    {
      "cell_type": "code",
      "source": [
        "class Person:\n",
        "  def __init__(self, lastName, firstName, mother='unknown', father='unknown'):\n",
        "    #the =unknown provides the default unknown value for the class\n",
        "        self.lastName = lastName\n",
        "        self.firstName = firstName\n",
        "        self.mother = mother\n",
        "        self.father = father\n",
        "\n",
        "  def __str__(self):\n",
        "      return f\"{self.firstName} {self.lastName}\"\n",
        "    #gives first then last name\n",
        "  def __repr__(self):\n",
        "      return f\"Person('{self.lastName}', '{self.firstName}', '{self.mother}', '{self.father}')\"\n",
        "      #follows the same format of the Person object"
      ],
      "metadata": {
        "id": "mjHDwHv3EpVe"
      },
      "execution_count": 6,
      "outputs": []
    },
    {
      "cell_type": "markdown",
      "source": [
        "Create a person (i.e., a `Person` object) called `p` with unknown parents.  (You will need to give your person a first and last name.) Check the type of `p`.  Include all inputs and outputs."
      ],
      "metadata": {
        "id": "-ppMsEIVHINl"
      }
    },
    {
      "cell_type": "code",
      "source": [
        "p = Person(\"Jordan\", \"Michael\")\n",
        "print(type(p))\n",
        "#class indicates that its defined in the main module of code"
      ],
      "metadata": {
        "id": "5bwid_6gHIBH",
        "outputId": "63c46404-50bc-4734-840c-b19ccfea0568",
        "colab": {
          "base_uri": "https://localhost:8080/"
        }
      },
      "execution_count": 9,
      "outputs": [
        {
          "output_type": "stream",
          "name": "stdout",
          "text": [
            "<class '__main__.Person'>\n"
          ]
        }
      ]
    },
    {
      "cell_type": "markdown",
      "source": [
        "Verify that your `__str__` and `__repr__` functions are doing what they are supposed to do.  Include all inputs and outputs."
      ],
      "metadata": {
        "id": "Z6zlUC3xRtal"
      }
    },
    {
      "cell_type": "code",
      "source": [
        "print(str(p))\n",
        "print(repr(p))\n",
        "#givws correct outputs from class and str/repr functions"
      ],
      "metadata": {
        "id": "jZO0dBQYRs-K",
        "outputId": "36c051be-efca-466e-d999-950cd59ae6e1",
        "colab": {
          "base_uri": "https://localhost:8080/"
        }
      },
      "execution_count": 10,
      "outputs": [
        {
          "output_type": "stream",
          "name": "stdout",
          "text": [
            "Michael Jordan\n",
            "Person('Jordan', 'Michael', 'unknown', 'unknown')\n"
          ]
        }
      ]
    },
    {
      "cell_type": "markdown",
      "source": [
        "Suppose the mother of `p` has been found and is named Taylor Swift.  Create a new person named Taylor Swift, and make her the mother of `p`:\n",
        "\n",
        "```\n",
        "> p.mother\n",
        "'Taylor Swift'\n",
        "```"
      ],
      "metadata": {
        "id": "1mOAThQiHzoQ"
      }
    },
    {
      "cell_type": "code",
      "source": [
        "taylor_swift = Person(\"Swift\", \"Taylor\")\n",
        "p.mother = taylor_swift #fills in previous unknown value\n",
        "print(repr(p))"
      ],
      "metadata": {
        "id": "NYbDOorpHymz",
        "outputId": "cb710694-7f48-46c7-8862-2683ea3dae74",
        "colab": {
          "base_uri": "https://localhost:8080/"
        }
      },
      "execution_count": 13,
      "outputs": [
        {
          "output_type": "stream",
          "name": "stdout",
          "text": [
            "Person('Jordan', 'Michael', 'Taylor Swift', 'unknown')\n"
          ]
        }
      ]
    },
    {
      "cell_type": "markdown",
      "source": [
        "2.  Add some methods to your class.  Start by copying the `class` definition you already wrote.  Then, inside the `class` definition:\n",
        "\n",
        "  (a) Write a method called `unknownParent()` which returns `True` if any parent is 'unknown' and `False` otherwise.\n",
        "\n",
        "  (b) Write a method called `maternalGrandmother()` which returns the mother's mother.  If the mother is unknown, it should return 'unknown'.\n",
        "\n"
      ],
      "metadata": {
        "id": "1g1pcrmFHzGh"
      }
    },
    {
      "cell_type": "code",
      "source": [
        "class Person:\n",
        "  def __init__(self, lastName, firstName, mother='unknown', father='unknown'):\n",
        "    #the =unknown provides the default unknown value for the class\n",
        "        self.lastName = lastName\n",
        "        self.firstName = firstName\n",
        "        self.mother = mother\n",
        "        self.father = father\n",
        "\n",
        "  def __str__(self):\n",
        "      return f\"{self.firstName} {self.lastName}\"\n",
        "    #gives first then last name\n",
        "  def __repr__(self):\n",
        "      return f\"Person('{self.lastName}', '{self.firstName}', '{self.mother}', '{self.father}')\"\n",
        "    #follows the same format of the Person object\n",
        "  def unknownParent(self):\n",
        "      return 'unknown' in (self.mother, self.father)\n",
        "    #gives True/False based on unknown\n",
        "  def maternalGrandmother(self):\n",
        "      if self.mother == 'unknown':\n",
        "        return 'unknown' #checks if mother is unknown\n",
        "      else:\n",
        "        return self.mother.mother #mother in law"
      ],
      "metadata": {
        "id": "7mIxJGwwKTpv"
      },
      "execution_count": 16,
      "outputs": []
    },
    {
      "cell_type": "markdown",
      "source": [
        "Create enough `Person` objects to test whether your methods are working properly.  Show all your inputs and outputs.  It is up to you to demonstrate that you have thoroughly tested the code.  You may use additional code and/or text chunks if it helps."
      ],
      "metadata": {
        "id": "l9-4gxd8FxAQ"
      }
    },
    {
      "cell_type": "code",
      "source": [
        "p = Person(\"Bird\", \"Larry\", \"unknown\")\n",
        "print(p.unknownParent())"
      ],
      "metadata": {
        "id": "gX1qpcKzFwoZ",
        "outputId": "39030dad-5b16-49ed-b889-95eb78b5c16a",
        "colab": {
          "base_uri": "https://localhost:8080/"
        }
      },
      "execution_count": 36,
      "outputs": [
        {
          "output_type": "stream",
          "name": "stdout",
          "text": [
            "True\n"
          ]
        }
      ]
    },
    {
      "cell_type": "code",
      "source": [
        "print(p.mother)\n",
        "print(p.maternalGrandmother()) #this is unknown because p.mother is unknown"
      ],
      "metadata": {
        "id": "Ou8o3cEceBrV",
        "outputId": "df81ade5-175d-40b0-fd9a-bbe09b3815e9",
        "colab": {
          "base_uri": "https://localhost:8080/"
        }
      },
      "execution_count": 37,
      "outputs": [
        {
          "output_type": "stream",
          "name": "stdout",
          "text": [
            "unknown\n",
            "unknown\n"
          ]
        }
      ]
    },
    {
      "cell_type": "code",
      "source": [
        "p = Person(\"Johnson\", \"Joe\", \"Mama Johnson\", \"Papa Johnson\")\n",
        "print(p.unknownParent()) #has both parents so it is false"
      ],
      "metadata": {
        "id": "Zn324NYAcgyS",
        "outputId": "ac139b05-5e35-4281-b546-3ce4321bff5a",
        "colab": {
          "base_uri": "https://localhost:8080/"
        }
      },
      "execution_count": 38,
      "outputs": [
        {
          "output_type": "stream",
          "name": "stdout",
          "text": [
            "False\n"
          ]
        }
      ]
    },
    {
      "cell_type": "code",
      "source": [
        "p.mother = Person(\"Johnson\", \"Mama\")\n",
        "p.mother.mother = Person(\"Johnson\", \"Grandma\")\n",
        "print(p.maternalGrandmother()) #gives maternal Grandmother"
      ],
      "metadata": {
        "id": "yMUZWf2ncqmj",
        "outputId": "92e37416-ec52-4429-ed4e-073e95097359",
        "colab": {
          "base_uri": "https://localhost:8080/"
        }
      },
      "execution_count": 39,
      "outputs": [
        {
          "output_type": "stream",
          "name": "stdout",
          "text": [
            "Grandma Johnson\n"
          ]
        }
      ]
    }
  ]
}