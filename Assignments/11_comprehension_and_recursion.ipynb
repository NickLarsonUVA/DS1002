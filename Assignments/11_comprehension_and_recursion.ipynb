{
  "nbformat": 4,
  "nbformat_minor": 0,
  "metadata": {
    "colab": {
      "provenance": [],
      "include_colab_link": true
    },
    "kernelspec": {
      "name": "python3",
      "display_name": "Python 3"
    },
    "language_info": {
      "name": "python"
    }
  },
  "cells": [
    {
      "cell_type": "markdown",
      "metadata": {
        "id": "view-in-github",
        "colab_type": "text"
      },
      "source": [
        "<a href=\"https://colab.research.google.com/github/NickLarsonUVA/DS1002/blob/main/Assignments/11_comprehension_and_recursion.ipynb\" target=\"_parent\"><img src=\"https://colab.research.google.com/assets/colab-badge.svg\" alt=\"Open In Colab\"/></a>"
      ]
    },
    {
      "cell_type": "markdown",
      "source": [
        "## Assignment 11\n",
        "Due Monday 15 April at noon"
      ],
      "metadata": {
        "id": "y6mGkyWrqph3"
      }
    },
    {
      "cell_type": "markdown",
      "source": [
        "### List comprehension\n",
        "\n",
        "Many of you resisted my recommendation to use list comprehensions in the previous assignment, and so my hand is forced.  You made me require it.\n",
        "\n",
        "\n",
        "Problem 1.  For each function you write below, you may assume the list being sent to the function will contain the appropriate data type.\n",
        "\n",
        "Use list comprehensions to create a function that will take a list `l` and return . . ."
      ],
      "metadata": {
        "id": "eBJulsWBngse"
      }
    },
    {
      "cell_type": "markdown",
      "source": [
        "(a) . . . a list containing the absolute value of each element of `l`"
      ],
      "metadata": {
        "id": "1h4hKDEqo5T_"
      }
    },
    {
      "cell_type": "code",
      "source": [
        "def absolute_value(l):\n",
        "  '''\n",
        "  returns the absolute value\n",
        "  '''\n",
        "  return [abs(x) for x in l]"
      ],
      "metadata": {
        "id": "LNltsHhtngLS"
      },
      "execution_count": 3,
      "outputs": []
    },
    {
      "cell_type": "code",
      "source": [
        "original = [4, -5, 2, 10]\n",
        "absolute = absolute_value(original)\n",
        "print(absolute)"
      ],
      "metadata": {
        "id": "jnlEaqL00d3u",
        "outputId": "4700a7ad-8beb-48a0-8781-4860369a90aa",
        "colab": {
          "base_uri": "https://localhost:8080/"
        }
      },
      "execution_count": 5,
      "outputs": [
        {
          "output_type": "stream",
          "name": "stdout",
          "text": [
            "[4, 5, 2, 10]\n"
          ]
        }
      ]
    },
    {
      "cell_type": "markdown",
      "source": [
        "(b) . . . a list containing `True` for each even number in `l` and `False` for each odd number in `l`"
      ],
      "metadata": {
        "id": "mqIbzaTvpLCV"
      }
    },
    {
      "cell_type": "code",
      "source": [
        "def true_false(l):\n",
        "  '''\n",
        "  True for even and False for odd\n",
        "  '''\n",
        "  return [True if x % 2 == 0 else False for x in l]"
      ],
      "metadata": {
        "id": "0OTpQFX9pK0t"
      },
      "execution_count": 10,
      "outputs": []
    },
    {
      "cell_type": "code",
      "source": [
        "list1 = [5, -6, 8, 11, -7]\n",
        "Test1 = true_false(list1)\n",
        "print(Test1)"
      ],
      "metadata": {
        "id": "tW29hmPK1Pgx",
        "outputId": "e23f8895-4daf-4cde-b37c-573e44d7fc4d",
        "colab": {
          "base_uri": "https://localhost:8080/"
        }
      },
      "execution_count": 14,
      "outputs": [
        {
          "output_type": "stream",
          "name": "stdout",
          "text": [
            "[False, True, True, False, False]\n"
          ]
        }
      ]
    },
    {
      "cell_type": "markdown",
      "source": [
        "(c) . . . a list containing only the numbers in `l` that are divisible by 3"
      ],
      "metadata": {
        "id": "9yqVg2hApUY9"
      }
    },
    {
      "cell_type": "code",
      "source": [
        "def divis_by3(l):\n",
        "  '''\n",
        "  only gives numbers divisible by 3\n",
        "  '''\n",
        "  return [x for x in l if x % 3 == 0]"
      ],
      "metadata": {
        "id": "2mP_1aYZpUF4"
      },
      "execution_count": 13,
      "outputs": []
    },
    {
      "cell_type": "code",
      "source": [
        "list2 = [3, 6, 9, 14, 15, 21]\n",
        "Test2 = divis_by3(list2)\n",
        "print(Test2)"
      ],
      "metadata": {
        "id": "IU9P77uL2Qyi",
        "outputId": "0d3210c8-39eb-4a0a-9d00-89e81274ac91",
        "colab": {
          "base_uri": "https://localhost:8080/"
        }
      },
      "execution_count": 15,
      "outputs": [
        {
          "output_type": "stream",
          "name": "stdout",
          "text": [
            "[3, 6, 9, 15, 21]\n"
          ]
        }
      ]
    },
    {
      "cell_type": "markdown",
      "source": [
        "(d) . . . a list containing only the words in `l` whose first and last letters are the same"
      ],
      "metadata": {
        "id": "2yClgYZupef1"
      }
    },
    {
      "cell_type": "code",
      "source": [
        "def same_letter(l):\n",
        "  '''\n",
        "  gives words with same first and last letter\n",
        "  '''\n",
        "  return [word for word in l if word[0] == word[-1] ]"
      ],
      "metadata": {
        "id": "-l7XnemMpeCi"
      },
      "execution_count": 17,
      "outputs": []
    },
    {
      "cell_type": "code",
      "source": [
        "list3 = [\"bob\", \"bill\", \"ted\", \"amanda\", \"jill\" ]\n",
        "test3 = same_letter(list3)\n",
        "print(test3)"
      ],
      "metadata": {
        "id": "3_vGNJo63U6j",
        "outputId": "5204227e-d935-4bdb-da4b-fd4533f9ef93",
        "colab": {
          "base_uri": "https://localhost:8080/"
        }
      },
      "execution_count": 19,
      "outputs": [
        {
          "output_type": "stream",
          "name": "stdout",
          "text": [
            "['bob', 'amanda']\n"
          ]
        }
      ]
    },
    {
      "cell_type": "markdown",
      "source": [
        "(e) . . . a list containing the first letter of each word in `l` that ends with a vowel"
      ],
      "metadata": {
        "id": "1mqMysFKppZS"
      }
    },
    {
      "cell_type": "code",
      "source": [
        "def first_vowel(l):\n",
        "  '''\n",
        "  gives words with vowel in first letter\n",
        "  '''\n",
        "  vowels = ['a', 'e', 'i', 'o', 'u']\n",
        "  return [word[0] for word in l if word[-1] in vowels]"
      ],
      "metadata": {
        "id": "1Gi3andbppDc"
      },
      "execution_count": 29,
      "outputs": []
    },
    {
      "cell_type": "code",
      "source": [
        "list4 = ['chicken', 'apple', 'pie', 'eggs', 'tomato']\n",
        "test4 = first_vowel(list4)\n",
        "print(test4)"
      ],
      "metadata": {
        "id": "s1dgqbE_5QX2",
        "outputId": "97cc18bc-b844-4ea4-b072-bdec03c495da",
        "colab": {
          "base_uri": "https://localhost:8080/"
        }
      },
      "execution_count": 32,
      "outputs": [
        {
          "output_type": "stream",
          "name": "stdout",
          "text": [
            "['a', 'p', 't']\n"
          ]
        }
      ]
    },
    {
      "cell_type": "markdown",
      "source": [
        "### Multiplication as a recursive process\n",
        "Problem 2.  Write a recursive function that computes the product of two positive integers `a` and `b` by adding `a` to itself `b` times.\n",
        "\n",
        "Hints:  \n",
        "1. if `b=1` then the product is `a`.\n",
        "2. if `b>1` then the product is what you get by adding `a` to `a * (b-1)`.\n",
        "\n",
        "Note:  the purpose of this exercise is to practice writing recursive functions.  Of course you can trivially ask for `a*b` and get the correct answer but that is worth no points.  Your function should not use any multiplications.\n"
      ],
      "metadata": {
        "id": "iV4ysawxjsiE"
      }
    },
    {
      "cell_type": "code",
      "execution_count": 39,
      "metadata": {
        "id": "wc9Y1d7ejrvH"
      },
      "outputs": [],
      "source": [
        "def product(a,b):\n",
        "  '''\n",
        "  computes product of two positive integers and and b by adding a to itself b times\n",
        "  '''\n",
        "  if b == 1:\n",
        "    return a\n",
        "  else:\n",
        "    return a + product(a, b - 1)"
      ]
    },
    {
      "cell_type": "code",
      "source": [
        "a = 5\n",
        "b = 6\n",
        "answer = product(a, b)\n",
        "print(answer)"
      ],
      "metadata": {
        "id": "44Ky_g8N8BtP",
        "outputId": "51f3f435-5d57-48e4-97a6-7315de60bf78",
        "colab": {
          "base_uri": "https://localhost:8080/"
        }
      },
      "execution_count": 41,
      "outputs": [
        {
          "output_type": "execute_result",
          "data": {
            "text/plain": [
              "30"
            ]
          },
          "metadata": {},
          "execution_count": 41
        }
      ]
    },
    {
      "cell_type": "markdown",
      "source": [
        "### Division as a recursive process\n",
        "\n",
        "Problem 3:  Write a recursive function that takes two positive integers `a` and `b` and returns the quotient `q` and remainder `r` obtained when `a` is divided by `b`.\n",
        "\n",
        "Hints:  \n",
        "1. If `a<b` then what should `q` and `r` be?\n",
        "\n",
        "2. If `a>b` then think about how `q` and `r` are related to the values you would get from dividing `a-b` by `b`."
      ],
      "metadata": {
        "id": "A5xI1LxDkxn0"
      }
    },
    {
      "cell_type": "code",
      "source": [
        "def divide(a,b):\n",
        "  '''\n",
        "  computes quotient and remainder when a is divided by b\n",
        "  '''\n",
        "  if a < b:\n",
        "    return 0, a\n",
        "  else:\n",
        "    q, r = divide(a - b, b)\n",
        "    return q + 1, r"
      ],
      "metadata": {
        "id": "_3aRmkgJkxUW"
      },
      "execution_count": 58,
      "outputs": []
    },
    {
      "cell_type": "code",
      "source": [
        "a = 31\n",
        "b = 6\n",
        "divide(a, b)"
      ],
      "metadata": {
        "id": "buR2IYs59X0T",
        "outputId": "9dbd2d2b-6f6c-49ae-8240-e7baff0095e8",
        "colab": {
          "base_uri": "https://localhost:8080/"
        }
      },
      "execution_count": 59,
      "outputs": [
        {
          "output_type": "execute_result",
          "data": {
            "text/plain": [
              "(5, 1)"
            ]
          },
          "metadata": {},
          "execution_count": 59
        }
      ]
    },
    {
      "cell_type": "code",
      "source": [
        "c = 589\n",
        "d = 14\n",
        "divide(c, d)"
      ],
      "metadata": {
        "id": "Jw9UzYIs-M9t",
        "outputId": "c382a0f8-adb4-4b81-bac6-21a4a8a550f8",
        "colab": {
          "base_uri": "https://localhost:8080/"
        }
      },
      "execution_count": 60,
      "outputs": [
        {
          "output_type": "execute_result",
          "data": {
            "text/plain": [
              "(42, 1)"
            ]
          },
          "metadata": {},
          "execution_count": 60
        }
      ]
    },
    {
      "cell_type": "markdown",
      "source": [
        "### The dot product of two vectors\n",
        "\n",
        "Problem 4.  Write a recursive function `dot()` that takes two lists of numbers, of equal length, and returns the sum of the products of the elements of the same index from each list. For example, if `V=[1,2,3]` and `W=[4,5,6]` then the function should return the value $(1 \\cdot 4) + (2\\cdot 5) + (3\\cdot 6)$, which equals 32.  In physics and linear algebra, this is called the \"dot product\" of the vectors `V` and `W`.\n",
        "\n",
        "Other examples:\n",
        "```\n",
        "dot([3],[4])\n",
        "12\n",
        "\n",
        "dot([1,1,0],[2,7,17])\n",
        "9\n",
        "```\n",
        "Hints:\n",
        "1. How is `dot(V,W)` related to `dot(V[1:],W[1:])`?\n",
        "2. What should happen if the lists are empty?"
      ],
      "metadata": {
        "id": "OkBK7gvglJ3u"
      }
    },
    {
      "cell_type": "code",
      "source": [
        "def dot(V,W):\n",
        "  '''\n",
        "  takes two lists with equal lengths and returns sum of products of same index\n",
        "  '''\n",
        "  if not V or not W:\n",
        "    return 0\n",
        "  else:\n",
        "    return V[0] * W[0] + dot(V[1:], W[1:])"
      ],
      "metadata": {
        "id": "LZXs6lkslJqm"
      },
      "execution_count": 62,
      "outputs": []
    },
    {
      "cell_type": "code",
      "source": [
        "dot([1, 2, 3], [4, 5, 6])"
      ],
      "metadata": {
        "id": "TpXXVIOUB3Ai",
        "outputId": "19776034-9921-471f-d51f-58030560ec89",
        "colab": {
          "base_uri": "https://localhost:8080/"
        }
      },
      "execution_count": 63,
      "outputs": [
        {
          "output_type": "execute_result",
          "data": {
            "text/plain": [
              "32"
            ]
          },
          "metadata": {},
          "execution_count": 63
        }
      ]
    },
    {
      "cell_type": "code",
      "source": [
        "dot([3, 4, 5], [10, 11, 12])"
      ],
      "metadata": {
        "id": "uAxyfgzpC0oZ",
        "outputId": "bc9c96dd-038c-4bcc-87ae-6ef66634bb4b",
        "colab": {
          "base_uri": "https://localhost:8080/"
        }
      },
      "execution_count": 64,
      "outputs": [
        {
          "output_type": "execute_result",
          "data": {
            "text/plain": [
              "134"
            ]
          },
          "metadata": {},
          "execution_count": 64
        }
      ]
    }
  ]
}