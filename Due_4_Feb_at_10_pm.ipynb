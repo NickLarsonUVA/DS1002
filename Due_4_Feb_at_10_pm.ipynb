{
  "nbformat": 4,
  "nbformat_minor": 0,
  "metadata": {
    "colab": {
      "provenance": [],
      "include_colab_link": true
    },
    "kernelspec": {
      "name": "python3",
      "display_name": "Python 3"
    },
    "language_info": {
      "name": "python"
    }
  },
  "cells": [
    {
      "cell_type": "markdown",
      "metadata": {
        "id": "view-in-github",
        "colab_type": "text"
      },
      "source": [
        "<a href=\"https://colab.research.google.com/github/NickLarsonUVA/DS1002/blob/main/Due_4_Feb_at_10_pm.ipynb\" target=\"_parent\"><img src=\"https://colab.research.google.com/assets/colab-badge.svg\" alt=\"Open In Colab\"/></a>"
      ]
    },
    {
      "cell_type": "markdown",
      "source": [
        "## DS 1002 homework due Sunday Feb 4 at 10 pm\n"
      ],
      "metadata": {
        "id": "zAw2bmn-TjFJ"
      }
    },
    {
      "cell_type": "markdown",
      "source": [
        "\n",
        "The notebook from Wednesday's class is in my GitHib repository, including the little script we wrote at the end to find mangos in a list of fruit.  The file is called `MorePythonBasics.ipynb`.\n",
        "\n",
        "(By the way I wondered if the correct spelling was \"mangos\" or \"mangoes\" and I found [this](https://www.mango.org/blog-mangos-or-mangoes/)!  Who knew?  There's a National Mango Board!  And they're prepared to adjudicate this and other difficult mango-related questions.)\n",
        "\n",
        "\n"
      ],
      "metadata": {
        "id": "Cmf4xleCSWCu"
      }
    },
    {
      "cell_type": "markdown",
      "source": [
        "### Problem 1:  finding fruit\n",
        "\n",
        "Adapt the function we wrote in class so that it takes two arguments,\n",
        "\n",
        "`fruit` and `hungryfor` ,\n",
        "\n",
        "and then searches through the list `fruit` for the item `hungryfor`.  The line that calls the function should look like\n",
        "\n",
        "`find_fruit(food, hungryfor)`\n",
        "\n",
        "Make it print out the results in the same way, so for example if `food` is what we entered in class and `hungryfor = \"tomatoes\"` then the output will be\n",
        "\n",
        "```python\n",
        "No tomatoes here.\n",
        "No tomatoes here.\n",
        "No tomatoes here.\n",
        "No tomatoes here.\n",
        "No tomatoes here.\n",
        "```\n",
        "Test your code by changing the values of `food` and `hungryfor` and make sure the output is what you expect.  Show a few outputs, each in its own code chunk.\n",
        "\n"
      ],
      "metadata": {
        "id": "rJLyGryAThhp"
      }
    },
    {
      "cell_type": "code",
      "source": [
        "food = [\"apples\", \"pie\", \"tomatoes\", \"carrots\", \"pizza\"]\n",
        "\n",
        "def find_hungryfor(food, hungryfor):\n",
        "  for hungryfor in food:\n",
        "    if hungryfor == \"tomatoes\":\n",
        "      print(\"I'm so hungry for TOMATOES\")\n",
        "    else:\n",
        "      print(\"dang I wanted a tomato\")\n",
        "find_hungryfor(food, hungryfor)"
      ],
      "metadata": {
        "id": "YXwLLFCt6H2f",
        "outputId": "c45f06ec-445b-4f7e-d40b-fba77fbe2394",
        "colab": {
          "base_uri": "https://localhost:8080/"
        }
      },
      "execution_count": null,
      "outputs": [
        {
          "output_type": "stream",
          "name": "stdout",
          "text": [
            "dang I wanted a tomato\n",
            "dang I wanted a tomato\n",
            "I'm so hungry for TOMATOES\n",
            "dang I wanted a tomato\n",
            "dang I wanted a tomato\n"
          ]
        }
      ]
    },
    {
      "cell_type": "code",
      "source": [
        "food = [\"tomatoes\", \"pie\", \"burritos\", \"asparagus\", \"peas\"]\n",
        "\n",
        "def find_hungryfor(food, hungryfor):\n",
        "    for IcanputwhateverIwanthere in food:\n",
        "        if IcanputwhateverIwanthere == \"pie\":\n",
        "            print(\"YES! I'm hungry for dessert!\")\n",
        "        else:\n",
        "            print(\"I didn't want this\")\n",
        "find_hungryfor(food, hungryfor)"
      ],
      "metadata": {
        "id": "bYdqsfrh6KnE",
        "outputId": "ebbf6de6-29db-4b8b-d7f0-87ed95a3c5db",
        "colab": {
          "base_uri": "https://localhost:8080/"
        }
      },
      "execution_count": null,
      "outputs": [
        {
          "output_type": "stream",
          "name": "stdout",
          "text": [
            "I didn't want this\n",
            "YES! I'm hungry for dessert!\n",
            "I didn't want this\n",
            "I didn't want this\n",
            "I didn't want this\n"
          ]
        }
      ]
    },
    {
      "cell_type": "markdown",
      "source": [
        "#### Notes\n",
        "1. Once you have run a code chunk in the notebook, it will remember that it has been run.  You don't have to call the function in the same code chunk where the function is defined.  In other words, to call the function with new inputs you can simply make a new code chunk, change the inputs, and call the function.  *You don't have to retype the definition of the function each time.*\n",
        "\n",
        "2. Make sure you clean things up when you're done, so you don't include old code that doesn't work or old incorrect outputs.\n"
      ],
      "metadata": {
        "id": "AMp-a1ym6W7w"
      }
    },
    {
      "cell_type": "markdown",
      "source": [
        "### Problem 2:  the `input()` function\n",
        "\n",
        "(a) Programming gets way more fun when you start to interact with your own programs!  Here is a function that lets you start doing that.  Run the following code and see what happens:\n"
      ],
      "metadata": {
        "id": "R-s9cZ6GYWNX"
      }
    },
    {
      "cell_type": "code",
      "source": [
        "input()\n",
        "print(\"Hello there!\")"
      ],
      "metadata": {
        "id": "IEK8O2qNYkXn",
        "outputId": "54b19381-ea9d-4e1f-8119-3233e89cb309",
        "colab": {
          "base_uri": "https://localhost:8080/"
        }
      },
      "execution_count": null,
      "outputs": [
        {
          "output_type": "stream",
          "name": "stdout",
          "text": [
            "hi\n",
            "Hello there!\n"
          ]
        }
      ]
    },
    {
      "cell_type": "markdown",
      "source": [
        "(b) As you just saw, the code waits for you to enter something before it continues.  If you want to actually use the input in the code, you should assign its value to a variable:"
      ],
      "metadata": {
        "id": "sktZu8wWzFF6"
      }
    },
    {
      "cell_type": "code",
      "source": [
        "message = input()\n",
        "print(message)"
      ],
      "metadata": {
        "id": "fMmBkzbyz9Ty",
        "outputId": "bdd99e46-7f9a-4cf6-c8a4-0a847eaadac9",
        "colab": {
          "base_uri": "https://localhost:8080/"
        }
      },
      "execution_count": null,
      "outputs": [
        {
          "output_type": "stream",
          "name": "stdout",
          "text": [
            "hi\n",
            "hi\n"
          ]
        }
      ]
    },
    {
      "cell_type": "code",
      "source": [],
      "metadata": {
        "id": "KKmWDSgcIzrf"
      },
      "execution_count": null,
      "outputs": []
    },
    {
      "cell_type": "markdown",
      "source": [
        "(c) Now you can start interacting.  Write some code that asks the user what they are hungry for (using a print statement), and then takes the user input, and then runs the `find_fruit` function from the previous code block using the user input as the `hungryfor` variable.  Test your code, and then include a few different outputs that demonstrate that the code works."
      ],
      "metadata": {
        "id": "ny41z-dQYmjQ"
      }
    },
    {
      "cell_type": "code",
      "source": [
        "print(\"what are you hungry for?\")\n",
        "hungryfor = input()\n",
        "fruit = [\"apple\", \"banana\", \"strawberry\"]\n",
        "def find_fruit(fruit, hungryfor):\n",
        "  for answer in fruit:\n",
        "    if answer == hungryfor:\n",
        "     print(\"Here you go\")\n",
        "     return #this will exit the function if the fruit is found\n",
        "    else:\n",
        "      print(\"sorry we dont have that\")\n",
        "find_fruit(fruit, hungryfor)"
      ],
      "metadata": {
        "id": "sQQVP1oa5dR7",
        "outputId": "fdf3767e-006e-452a-c478-5ba2565957ab",
        "colab": {
          "base_uri": "https://localhost:8080/"
        }
      },
      "execution_count": 4,
      "outputs": [
        {
          "output_type": "stream",
          "name": "stdout",
          "text": [
            "what are you hungry for?\n",
            "pie\n",
            "sorry we dont have that\n",
            "sorry we dont have that\n",
            "sorry we dont have that\n"
          ]
        }
      ]
    },
    {
      "cell_type": "code",
      "source": [
        "print(\"what are you hungry for?\")\n",
        "hungryfor = input()\n",
        "fruit = [\"apple\", \"banana\", \"strawberry\"]\n",
        "def find_fruit(fruit, hungryfor):\n",
        "  for answer in fruit:\n",
        "    if answer == hungryfor:\n",
        "     print(\"Here you go\")\n",
        "     return #this will exit the function if the fruit is found\n",
        "    else:\n",
        "      print(\"Sorry we don't have that\")\n",
        "find_fruit(fruit, hungryfor)"
      ],
      "metadata": {
        "colab": {
          "base_uri": "https://localhost:8080/"
        },
        "id": "R_SxsE6hNFSY",
        "outputId": "81a32712-44e6-4470-d9d9-65da3c2b73ab"
      },
      "execution_count": 1,
      "outputs": [
        {
          "output_type": "stream",
          "name": "stdout",
          "text": [
            "what are you hungry for?\n",
            "apple\n",
            "Here you go\n"
          ]
        }
      ]
    },
    {
      "cell_type": "code",
      "source": [
        "print(\"what are you hungry for?\")\n",
        "hungryfor = input()\n",
        "fruit = [\"apple\", \"banana\", \"strawberry\"]\n",
        "def find_fruit(fruit, hungryfor):\n",
        "  for answer in fruit:\n",
        "    if answer == hungryfor:\n",
        "     print(\"Here you go\")\n",
        "     return #this will exit the function if the fruit is found\n",
        "    else:\n",
        "      print(\"Sorry we don't have that\")\n",
        "\n",
        "find_fruit(fruit, hungryfor)"
      ],
      "metadata": {
        "colab": {
          "base_uri": "https://localhost:8080/"
        },
        "id": "zqEFtfS7NQzE",
        "outputId": "038148cc-1745-4f2e-84e4-b1f5dc655568"
      },
      "execution_count": 8,
      "outputs": [
        {
          "output_type": "stream",
          "name": "stdout",
          "text": [
            "what are you hungry for?\n",
            "strawberry\n",
            "Sorry we don't have that\n",
            "Sorry we don't have that\n",
            "Here you go\n"
          ]
        }
      ]
    },
    {
      "cell_type": "markdown",
      "source": [
        "### Problem 3:  ratings  \n",
        "Write a piece of code which prompts a user with the question \"What is your rating? (1-10)\" and then asks for user input.  Let's say the input is 3.  Once the input is received, print out a message that says.\n",
        "\n",
        "\"Your rating is *** .\"\n",
        "\n",
        "Obviously, your program should print the number of stars corresponding to the input!  If the input is 5, it should print\n",
        "\n",
        "\"Your rating is ***** .\"\n",
        "\n",
        "Show at least two outputs of your code."
      ],
      "metadata": {
        "id": "5CWOlHBz0xoZ"
      }
    },
    {
      "cell_type": "code",
      "source": [
        "print(\"What is your rating? (1-10)\")\n",
        "rating = input()\n",
        "rating = int(rating)\n",
        "if 1 <= rating <= 10:\n",
        "    print(f\"Your rating is {'*' * rating} .\") #f-string allows you to enter values of variables using curly braces (from google :D)\n",
        "else:\n",
        "    print(\"please give an integer 1-10\")"
      ],
      "metadata": {
        "id": "MCWnTAUW2Gin",
        "colab": {
          "base_uri": "https://localhost:8080/"
        },
        "outputId": "3ff32634-f841-444e-da76-4cc7242f7bef"
      },
      "execution_count": 16,
      "outputs": [
        {
          "output_type": "stream",
          "name": "stdout",
          "text": [
            "What is your rating? (1-10)\n",
            "9\n",
            "Your rating is ********* .\n"
          ]
        }
      ]
    },
    {
      "cell_type": "code",
      "source": [
        "print(\"What is your rating? (1-10)\")\n",
        "rating = input()\n",
        "rating = int(rating)\n",
        "if 1 <= rating <= 10: #this is the guard against errors, using the greater than and less than that we learned in class\n",
        "    print(f\"Your rating is {'*' * rating} .\")\n",
        "else:\n",
        "    print(\"please give an integer 1-10\")"
      ],
      "metadata": {
        "id": "nxm67oCk8Ukn",
        "colab": {
          "base_uri": "https://localhost:8080/"
        },
        "outputId": "d6efac23-8d80-4d9a-bc15-49852268a552"
      },
      "execution_count": 14,
      "outputs": [
        {
          "output_type": "stream",
          "name": "stdout",
          "text": [
            "What is your rating? (1-10)\n",
            "20\n",
            "please give an integer 1-10\n"
          ]
        }
      ]
    },
    {
      "cell_type": "markdown",
      "source": [
        "You do not have to do this as part of the assignment, but one thing to think about with any code that has **interactivity** is that you want to make it **robust**.  This means you should imagine someone is *trying* to break your code, and you should try to make it as indestructible as possible.\n",
        "\n",
        "What will happen to your code if someone enters 3.5?  Or -12?  Or \"nonsense\"?  Test it and see.  Think about how you might guard against errors.\n"
      ],
      "metadata": {
        "id": "VRfc9puT2yac"
      }
    }
  ]
}