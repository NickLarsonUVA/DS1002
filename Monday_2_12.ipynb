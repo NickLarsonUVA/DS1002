{
  "nbformat": 4,
  "nbformat_minor": 0,
  "metadata": {
    "colab": {
      "provenance": [],
      "authorship_tag": "ABX9TyPyk1/Xa8T/2GdXaRvMcID8",
      "include_colab_link": true
    },
    "kernelspec": {
      "name": "python3",
      "display_name": "Python 3"
    },
    "language_info": {
      "name": "python"
    }
  },
  "cells": [
    {
      "cell_type": "markdown",
      "metadata": {
        "id": "view-in-github",
        "colab_type": "text"
      },
      "source": [
        "<a href=\"https://colab.research.google.com/github/NickLarsonUVA/DS1002/blob/main/Monday_2_12.ipynb\" target=\"_parent\"><img src=\"https://colab.research.google.com/assets/colab-badge.svg\" alt=\"Open In Colab\"/></a>"
      ]
    },
    {
      "cell_type": "markdown",
      "source": [
        "First, the computer chooses a random integer (whole number) between 0 and 100.\n",
        "\n",
        "Then the user is prompted to guess what the number is.\n",
        "\n",
        "Then:\n",
        "\n",
        "If the user’s guess is equal to the computer’s randomly generated number, then the code should print out a message saying something like “You got it!”, and the game ends.\n",
        "If the guess is too high, the computer should respond with “too high,” and likewise if the guess is too low.\n",
        "The game should not end until the user guesses correctly.\n",
        "\n",
        "There is a function called random.randint() which you call by sending it two arguments, a and b. It returns an integer randomly selected between a and b. However this function is not part of basic Python; you have to load the numpy package to use it.\n",
        "\n"
      ],
      "metadata": {
        "id": "m7CtFNe9Xs35"
      }
    },
    {
      "cell_type": "code",
      "execution_count": 78,
      "metadata": {
        "colab": {
          "base_uri": "https://localhost:8080/"
        },
        "id": "Pa2mAF_-Xrq_",
        "outputId": "4ded9164-fa25-4b7e-a5cd-9e74ef841a94"
      },
      "outputs": [
        {
          "output_type": "stream",
          "name": "stdout",
          "text": [
            "Guess a number between 0 and 100: 50\n",
            "Too low!\n",
            "Guess a number between 0 and 100: 75\n",
            "Too low!\n",
            "Guess a number between 0 and 100: 87\n",
            "Too low!\n",
            "Guess a number between 0 and 100: 90\n",
            "Too high!\n",
            "Guess a number between 0 and 100: ggg\n",
            "Invalid guess. Enter an number between 0 and 100\n",
            "Guess a number between 0 and 100: 10000\n",
            "Invalid guess. Enter a number between 0 and 100.\n",
            "Guess a number between 0 and 100: 89\n",
            "You guessed Correctly!\n"
          ]
        }
      ],
      "source": [
        "import numpy as np\n",
        "random_number = np.random.randint(0, 101)\n",
        "\n",
        "while user_guess != random_number:\n",
        "  user_guess = (input(\"Guess a number between 0 and 100: \"))\n",
        "\n",
        "  try:\n",
        "    user_guess = int(user_guess)\n",
        "    if user_guess < 0 or user_guess > 100:\n",
        "            print(\"Invalid guess. Enter a number between 0 and 100.\")\n",
        "            continue\n",
        "    if user_guess > random_number:\n",
        "      print(\"Too high!\")\n",
        "    elif user_guess < random_number:\n",
        "      print(\"Too low!\")\n",
        "    else:\n",
        "      print(\"You guessed Correctly!\")\n",
        "  except ValueError:\n",
        "    print(\"Invalid guess. Enter an number between 0 and 100\")"
      ]
    }
  ]
}